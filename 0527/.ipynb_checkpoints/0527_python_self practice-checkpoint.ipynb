{
 "cells": [
  {
   "cell_type": "markdown",
   "id": "22bcc2a5",
   "metadata": {},
   "source": [
    "##### Lab2.1\n",
    "\n",
    "a設為0x6b(0b 0110 1011)，將第n個bit設為1(default n=4)。  \n",
    "=>0x6b(0b 0110 1011)->0x7b(0b 0111 1011)"
   ]
  },
  {
   "cell_type": "code",
   "execution_count": null,
   "id": "508f9308",
   "metadata": {},
   "outputs": [],
   "source": [
    "a=0x6b\n",
    "n = 4\n",
    "\n",
    "# 0b 0110 1011\n",
    "# |  0001 0000\n",
    "# 0b 0111 1011\n",
    "# hex format number 16 0x hex(a)\n",
    "# bin format number 2 0b bin(a)\n",
    "\n",
    "mask = 0x1 << n\n",
    "result = a | mask\n",
    "print(\"=>%s(%s)->%s(%s)\" %(hex(a),bin(a),hex(result), bin(result)))"
   ]
  },
  {
   "cell_type": "code",
   "execution_count": null,
   "id": "d4eb7a52",
   "metadata": {},
   "outputs": [],
   "source": [
    "a=0x6b\n",
    "n = 4\n",
    "# 0b 0110 1011\n",
    "# |  0001 0000\n",
    "# 0b 0111 1011\n",
    "# hex format number 16 0x\n",
    "# bin format number 2 0b\n",
    "\n",
    "mask = 0X1 << n\n",
    "result = a | mask\n",
    "print(\"=>%s(%s)->%s(%s)\\n\" %(hex(a), bin(a), hex(result), bin(result)))"
   ]
  },
  {
   "cell_type": "code",
   "execution_count": null,
   "id": "d16d8244",
   "metadata": {},
   "outputs": [],
   "source": [
    "bin(result)"
   ]
  },
  {
   "cell_type": "code",
   "execution_count": null,
   "id": "a3041dbe",
   "metadata": {},
   "outputs": [],
   "source": []
  },
  {
   "cell_type": "markdown",
   "id": "1362049a",
   "metadata": {},
   "source": [
    "#### Lab2.2\n",
    "\n",
    "a設為0x7b(0b 0111 1011)，將第n個bit設為0(default n=4)。  \n",
    "=>0x7b(0b 0111 1011)->0x6b(0b 0110 1011)\n"
   ]
  },
  {
   "cell_type": "code",
   "execution_count": null,
   "id": "216501bc",
   "metadata": {},
   "outputs": [],
   "source": [
    "a = 0x7b\n",
    "n = 4\n",
    "\n",
    "# 0b 0111 1011\n",
    "# &  1110 1111 <= ~ 0001 0000 <= ~ (0x1 << n)\n",
    "# 0b 0110 1011\n",
    "\n",
    "mask = ~(0x1 << n)\n",
    "result = a & mask\n",
    "print(\"=>%s(%s)->%s(%s)\\n\" %(hex(a),bin(a),hex(result),bin(result)))"
   ]
  },
  {
   "cell_type": "code",
   "execution_count": null,
   "id": "9cd62992",
   "metadata": {},
   "outputs": [],
   "source": [
    "a=0x7b\n",
    "n = 4\n",
    "# 0b 0111 1011\n",
    "# &  1110 1111 <= ~ 0001 0000 <= 0x1 <<n\n",
    "# 0b 0110 1011\n",
    "# hex format number 16 0x\n",
    "# bin format number 2 0b\n",
    "\n",
    "mask = ~(0X1 << n)\n",
    "result = a & mask\n",
    "print(\"=>%s(%s)->%s(%s)\\n\" %(hex(a), bin(a), hex(result), bin(result)))"
   ]
  },
  {
   "cell_type": "code",
   "execution_count": null,
   "id": "6caab018",
   "metadata": {},
   "outputs": [],
   "source": []
  },
  {
   "cell_type": "markdown",
   "id": "aa4fb280",
   "metadata": {},
   "source": [
    "##### Lab2.3\n",
    "a設為0x6b(0b 0110 1011)，將第n, n+1個bit設為0b11(default n=3)。  \n",
    "=>0x6b(0b 0110 1011)->0x7b(0b 0111 1011)"
   ]
  },
  {
   "cell_type": "code",
   "execution_count": null,
   "id": "174c79bb",
   "metadata": {},
   "outputs": [],
   "source": [
    "v00 = 0x63\n",
    "v01 = 0x6b\n",
    "v10 = 0x73\n",
    "v11 = 0x7b"
   ]
  },
  {
   "cell_type": "code",
   "execution_count": null,
   "id": "d891a1c5",
   "metadata": {},
   "outputs": [],
   "source": [
    "a = v01\n",
    "n = 3\n",
    "\n",
    "# 0b 0110 1011\n",
    "# |  0001 1000 => 0b11 << n\n",
    "# 0b 0111 1011\n",
    "# hex format number 16 0x\n",
    "# bin format number 2 0b\n",
    "\n",
    "mask = 0b11 << n\n",
    "result = a | mask\n",
    "print(\"=>%s(%s)->%s(%s)\\n\" %(hex(a),bin(a),hex(result),bin(result)))"
   ]
  },
  {
   "cell_type": "code",
   "execution_count": null,
   "id": "5933b68e",
   "metadata": {},
   "outputs": [],
   "source": [
    "a=v01\n",
    "n = 3\n",
    "# 0b 0110 1011\n",
    "# |  0001 1000 <= 0b11 << n\n",
    "# 0b 0111 1011\n",
    "# hex format number 16 0x\n",
    "# bin format number 2 0b\n",
    "\n",
    "mask = 0b11 << n\n",
    "result = a | mask\n",
    "print(\"=>%s(%s)->%s(%s)\\n\" %(hex(a), bin(a), hex(result), bin(result)))"
   ]
  },
  {
   "cell_type": "code",
   "execution_count": null,
   "id": "4b84b177",
   "metadata": {},
   "outputs": [],
   "source": [
    "print(0x6b)"
   ]
  },
  {
   "cell_type": "code",
   "execution_count": null,
   "id": "e4996bfb",
   "metadata": {},
   "outputs": [],
   "source": []
  },
  {
   "cell_type": "markdown",
   "id": "2a2c478f",
   "metadata": {},
   "source": [
    "##### Lab2.4\n",
    "a設為0x6b(0b 0110 1011)，將第n, n+1個bit設為0b10(default n=3)。  \n",
    "=>0x6b(0b 0110 1011)->0x73(0b 0111 0011)\n"
   ]
  },
  {
   "cell_type": "code",
   "execution_count": null,
   "id": "4e90c106",
   "metadata": {},
   "outputs": [],
   "source": [
    "a = 0x6b\n",
    "n = 3\n",
    "\n",
    "# 0b 0110 1011\n",
    "# &  1110 0111 => ~ 0b11 << n\n",
    "# |  0001 0000 => 0b1 << n+1\n",
    "# 0b 0111 0011\n",
    "# hex format number 16 0x\n",
    "# bin format number 2 0b\n",
    "\n",
    "mask1 = ~(0b11 << n)\n",
    "mask2 = 0b1 << n+1\n",
    "result = (a & mask1) | mask2\n",
    "print(\"=>%s(%s)->%s(%s)\\n\" %(hex(a), bin(a), hex(result), bin(result)))"
   ]
  },
  {
   "cell_type": "code",
   "execution_count": null,
   "id": "3485154f",
   "metadata": {},
   "outputs": [],
   "source": [
    "a = 0x6b\n",
    "value = 0b10\n",
    "n = 3\n",
    "# 0b 0110 1011\n",
    "# &  1110 0111 <= ~ 0001 1000 <= 0b11 << n \n",
    "# 0b 0110 0011\n",
    "# |  0001 0000 <= value=0b11 << n\n",
    "# 0b 0111 0011\n",
    "mask = 0x3\n",
    "result = a & ~(mask<<n) | (value<<n)\n",
    "print(\"=>%s(%s)->%s(%s)\\n\" %(hex(a), bin(a), hex(result), bin(result)))"
   ]
  },
  {
   "cell_type": "code",
   "execution_count": null,
   "id": "13bc84ed",
   "metadata": {},
   "outputs": [],
   "source": []
  },
  {
   "cell_type": "markdown",
   "id": "881de6da",
   "metadata": {},
   "source": [
    "## Lab2.5\n",
    "mode_0=0000  \n",
    "mode_1=0001  \n",
    "mode_2=0010  \n",
    "mode_3=0011  \n",
    "...  \n",
    "mode_f=1111  \n",
    "\n",
    "a設為0xf16b(0b 1111 0001 <font color='red'>0110</font> 1011)，將第n組資料設為mode_a(default n=1)。  \n",
    "=>0xf16b(0b 1111 0001 <font color='red'>0110</font> 1011)->0xf1ab(0b 1111 0001 <font color='red'>1010</font> 1011)\n"
   ]
  },
  {
   "cell_type": "code",
   "execution_count": null,
   "id": "6abf99de",
   "metadata": {},
   "outputs": [],
   "source": [
    "a = 0xf16b\n",
    "n = 1\n",
    "\n",
    "# mode_a 0b 1010\n",
    "# 0b 1111 0001 0110 1011 = 0xf16b\n",
    "# &  1111 1111 1010 1111 => ~(0x5 << n*4)\n",
    "# |  0000 0000 1010 0000 => 0xa << n*4\n",
    "# 0b 1111 0001 1010 1011\n",
    "\n",
    "mask1 = ~(0x5 << n*4)\n",
    "mask2 = 0xa << n*4\n",
    "result = a & mask1 | mask2\n",
    "\n",
    "print(\"=>%s(%s)->%s(%s)\\n\" %(hex(a), bin(a), hex(result), bin(result)))"
   ]
  },
  {
   "cell_type": "code",
   "execution_count": null,
   "id": "dfbc8085",
   "metadata": {},
   "outputs": [],
   "source": [
    "mode_0 = 0b0000\n",
    "mode_1 = 0b0001\n",
    "mode_2 = 0b0010\n",
    "mode_3 = 0b0011\n",
    "mode_4 = 0b0100\n",
    "mode_5 = 0b0101\n",
    "mode_6 = 0b0110\n",
    "mode_7 = 0b0111\n",
    "mode_8 = 0b1000\n",
    "mode_9 = 0b1001\n",
    "mode_a = 0b1010\n",
    "mode_b = 0b1011\n",
    "mode_c = 0b1100\n",
    "mode_d = 0b1101\n",
    "mode_e = 0b1110\n",
    "mode_f = 0b1111"
   ]
  },
  {
   "cell_type": "code",
   "execution_count": null,
   "id": "aaaad5ca",
   "metadata": {},
   "outputs": [],
   "source": [
    "mask = 0xf\n",
    "\n",
    "a = 0xf16b\n",
    "value = mode_a\n",
    "n=1\n",
    "\n",
    "result = a & ~(mask << (n*4)) | (value << (n*4))\n",
    "print(\"=>%s(%s)->%s(%s)\\n\" %(hex(a), bin(a), hex(result), bin(result)))"
   ]
  },
  {
   "cell_type": "markdown",
   "id": "20d4031c",
   "metadata": {},
   "source": [
    "##### Lab2.7\n",
    "\n",
    "a設為0x6b(0b 0110 1011)，將第n, n+1個bit讀取並存到b(default n=3)。  \n",
    "b=0b01=0x1 (hint. << >>)\n"
   ]
  },
  {
   "cell_type": "code",
   "execution_count": null,
   "id": "7eb37312",
   "metadata": {},
   "outputs": [],
   "source": [
    "a = 0x6b\n",
    "n = 3\n",
    "\n",
    "# 0b 0110 1011"
   ]
  },
  {
   "cell_type": "code",
   "execution_count": null,
   "id": "e88ca508",
   "metadata": {},
   "outputs": [],
   "source": []
  },
  {
   "cell_type": "code",
   "execution_count": null,
   "id": "558bc211",
   "metadata": {},
   "outputs": [],
   "source": []
  },
  {
   "cell_type": "code",
   "execution_count": null,
   "id": "cbbb519f",
   "metadata": {},
   "outputs": [],
   "source": [
    "a = 0x6b\n",
    "n = 3\n",
    "\n",
    "# 0b 0110 1011\n",
    "# &  0001 1000 <= 0b11 << n\n",
    "# 0b 0000 1000 >> n\n",
    "#           01\n",
    "# hex format number 16 0x\n",
    "# bin format number 2 0b\n",
    "\n",
    "mask = 0x3 << n\n",
    "result = (a & mask) >> n\n",
    "print(\"=>%s(%s)->%s(%s)\\n\" %(hex(a), bin(a), hex(result), bin(result)))"
   ]
  },
  {
   "cell_type": "code",
   "execution_count": null,
   "id": "2c8f2f12",
   "metadata": {},
   "outputs": [],
   "source": []
  },
  {
   "cell_type": "code",
   "execution_count": null,
   "id": "6cb037e0",
   "metadata": {},
   "outputs": [],
   "source": [
    "round(2.4)"
   ]
  },
  {
   "cell_type": "code",
   "execution_count": null,
   "id": "e7e0e52f",
   "metadata": {},
   "outputs": [],
   "source": [
    "round(2.5)"
   ]
  },
  {
   "cell_type": "code",
   "execution_count": null,
   "id": "968977be",
   "metadata": {},
   "outputs": [],
   "source": [
    "import random\n",
    "print(random.random())"
   ]
  },
  {
   "cell_type": "markdown",
   "id": "c616183a",
   "metadata": {},
   "source": [
    "##### Lab2.6\n",
    "隨機產生A~Z。(p.43+p.69+p.71)\n"
   ]
  },
  {
   "cell_type": "code",
   "execution_count": null,
   "id": "6d5b7613",
   "metadata": {},
   "outputs": [],
   "source": [
    "import random\n",
    "a = 65\n",
    "print(chr(random.randint(65,90)))"
   ]
  },
  {
   "cell_type": "code",
   "execution_count": null,
   "id": "2d6805fe",
   "metadata": {},
   "outputs": [],
   "source": []
  },
  {
   "cell_type": "markdown",
   "id": "42642d68",
   "metadata": {},
   "source": [
    "\n",
    "第二組測試資料: a=0xc07b=0b 1100 0000 0111 1011  \n",
    "shift=3  \n",
    "value=0b 100  \n",
    "result=0xc063=0b 1100 0000 0110 0011  \n",
    "顯示如下:  \n",
    "=>0xc07b(0b1100000001<font color='red'>111</font>011)->0xc063(0b1100000001<font color='red'>100</font>011)"
   ]
  },
  {
   "cell_type": "markdown",
   "id": "445035ef",
   "metadata": {},
   "source": [
    "##### Lab2.5.5\n",
    "假設已從硬體設備中映射並擷取其中某段長度為16bits的記憶體區段作為a(0xf16b)，  \n",
    "並設有偏移量shift(int.10)，  \n",
    "最後有一<font color='red'>長度未定</font>覆蓋值value(0b11010)。  \n",
    "請實作讓value能改寫偏移shift位置的a內容。  \n",
    "ex.\n",
    "\n",
    "第一組測試資料: a=0xf16b=0b 1111 0001 0110 1011  \n",
    "shift=10  \n",
    "value=0b 11010  \n",
    "result=0xe96b=0b 1110 1001 0110 1011  \n",
    "顯示如下:  \n",
    "=>0xf16b(0b1<font color='red'>11100</font>0101101011)->0xe96b(0b1<font color='red'>11010</font>0101101011)  \n"
   ]
  },
  {
   "cell_type": "code",
   "execution_count": null,
   "id": "fd4d1361",
   "metadata": {},
   "outputs": [],
   "source": [
    "a = 0xf16b\n",
    "n = int(input(\"plesae input shift amount\"))\n",
    "value = 0b11010\n",
    "\n",
    "mask1 = ~((value ^ ~(value-1)) << n)\n",
    "mask2 = value << n\n",
    "result = a & mask1 | mask2\n",
    "print(\"=>%s(%s)->%s(%s)\\n\" %(hex(a), bin(a), hex(result), bin(result)))"
   ]
  },
  {
   "cell_type": "code",
   "execution_count": null,
   "id": "19e671f6",
   "metadata": {},
   "outputs": [],
   "source": [
    "abs(~(value))\n"
   ]
  },
  {
   "cell_type": "code",
   "execution_count": 19,
   "id": "db35365d",
   "metadata": {},
   "outputs": [
    {
     "name": "stdout",
     "output_type": "stream",
     "text": [
      "plesae input shift amount10\n",
      "plesae input coverage value26\n",
      "=>0xf16b(0b1111000101101011)->0xe96b(0b1110100101101011)\n",
      "\n"
     ]
    }
   ],
   "source": [
    "# 偏移量shift(int.10)\n",
    "# value(0b11010) 長度未定\n",
    "a = 0xf16b\n",
    "n = int(input(\"plesae input shift amount\"))\n",
    "value = int(input(\"plesae input coverage value\"))\n",
    "# 0b 1111 0001 0110 1011\n",
    "#     110 10wh\n",
    "#     001 01 \n",
    "#     ||& |&\n",
    "# &  1000 0011 1111 1111 => ~(1 1111 << n) => ~(0x1f << n)\n",
    "# |  0110 1000 0000 0000 => 1 1010 => 0x1a << n\n",
    "# 0b 1110 1001 0110 1011\n",
    "c = value\n",
    "i = 1\n",
    "while c > 2:\n",
    "    c = c / 2\n",
    "    i += 1\n",
    "\n",
    "mask1 = ~((pow(2,i)-1) << n)\n",
    "mask2 = value << n\n",
    "result = a & mask1 | mask2\n",
    "print(\"=>%s(%s)->%s(%s)\\n\" %(hex(a), bin(a), hex(result), bin(result)))"
   ]
  },
  {
   "cell_type": "code",
   "execution_count": 1,
   "id": "9dab1580",
   "metadata": {},
   "outputs": [
    {
     "name": "stdout",
     "output_type": "stream",
     "text": [
      "5\n"
     ]
    }
   ],
   "source": [
    "value = 26\n",
    "i = 1\n",
    "while value > 2:\n",
    "    value = value / 2\n",
    "    i += 1\n",
    "print(i)"
   ]
  },
  {
   "cell_type": "code",
   "execution_count": 9,
   "id": "5344671e",
   "metadata": {},
   "outputs": [
    {
     "data": {
      "text/plain": [
       "'0x1f'"
      ]
     },
     "execution_count": 9,
     "metadata": {},
     "output_type": "execute_result"
    }
   ],
   "source": [
    "hex(pow(2,i)-1)"
   ]
  },
  {
   "cell_type": "code",
   "execution_count": null,
   "id": "f4efc97c",
   "metadata": {},
   "outputs": [],
   "source": [
    "bin(~(0x1f << n))"
   ]
  },
  {
   "cell_type": "code",
   "execution_count": null,
   "id": "3ccbef3b",
   "metadata": {},
   "outputs": [],
   "source": [
    "bin((value |1|0))\n",
    "bin(~(0x1f)) \n",
    "mask1 = ((value ^ value) << n)"
   ]
  },
  {
   "cell_type": "code",
   "execution_count": null,
   "id": "b00b67e4",
   "metadata": {},
   "outputs": [],
   "source": [
    "x = 1000\n",
    "x.to_bytes((x.bit_length()+7) // 8, byteorder = 'little')"
   ]
  },
  {
   "cell_type": "code",
   "execution_count": null,
   "id": "70964eff",
   "metadata": {},
   "outputs": [],
   "source": [
    "a = 0x6b\n",
    "n = 3\n",
    "\n",
    "# 0b 0110 1011\n",
    "# &  0001 1000 <= 0b11 << n\n",
    "# 0b 0000 1000 >> n\n",
    "#           01\n",
    "# hex format number 16 0x\n",
    "# bin format number 2 0b\n",
    "\n",
    "n = int(input(\"plesae input shift number\"))"
   ]
  }
 ],
 "metadata": {
  "kernelspec": {
   "display_name": "Python 3",
   "language": "python",
   "name": "python3"
  },
  "language_info": {
   "codemirror_mode": {
    "name": "ipython",
    "version": 3
   },
   "file_extension": ".py",
   "mimetype": "text/x-python",
   "name": "python",
   "nbconvert_exporter": "python",
   "pygments_lexer": "ipython3",
   "version": "3.8.8"
  }
 },
 "nbformat": 4,
 "nbformat_minor": 5
}
