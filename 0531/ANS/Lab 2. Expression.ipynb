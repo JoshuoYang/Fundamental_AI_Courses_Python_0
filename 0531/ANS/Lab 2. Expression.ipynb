{
 "cells": [
  {
   "cell_type": "markdown",
   "metadata": {},
   "source": [
    "## Lab2.1\n",
    "a設為0x6b(0b 011<font color='red'>0</font> 1011)，將第n個bit設為1(default n=4)。  \n",
    "=>0x6b(0b 011<font color='red'>0</font> 1011)->0x7b(0b 011<font color='red'>1</font> 1011)"
   ]
  },
  {
   "cell_type": "code",
   "execution_count": 23,
   "metadata": {
    "scrolled": false
   },
   "outputs": [
    {
     "name": "stdout",
     "output_type": "stream",
     "text": [
      "=>0x6b(0b1101011)->0x7b(0b1111011)\n",
      "\n"
     ]
    }
   ],
   "source": [
    "a = 0x6b\n",
    "n = 4\n",
    "# 0b 0110 1011\n",
    "# |  0001 0000\n",
    "# 0b 0111 1011\n",
    "\n",
    "mask = 0x1 << n\n",
    "result = a | mask\n",
    "print(\"=>%s(%s)->%s(%s)\\n\" %(hex(a), bin(a), hex(result), bin(result)))"
   ]
  },
  {
   "cell_type": "markdown",
   "metadata": {},
   "source": [
    "## Lab2.2\n",
    "a設為0x7b(0b 011<font color='red'>1</font> 1011)，將第n個bit設為0(default n=4)。  \n",
    "=>0x7b(0b 011<font color='red'>1</font> 1011)->0x6b(0b 011<font color='red'>0</font> 1011)"
   ]
  },
  {
   "cell_type": "code",
   "execution_count": 28,
   "metadata": {},
   "outputs": [
    {
     "name": "stdout",
     "output_type": "stream",
     "text": [
      "=>0x7b(0b1111011)->0x6b(0b1101011)\n",
      "\n"
     ]
    }
   ],
   "source": [
    "a = 0x7b\n",
    "n = 4\n",
    "# 0b 0111 1011\n",
    "# &  1110 1111 <= ~ 0001 0000 <= 0x1 << n\n",
    "# 0b 0110 1011\n",
    "mask = ~(0x1 << n)\n",
    "result = a & mask\n",
    "print(\"=>%s(%s)->%s(%s)\\n\" %(hex(a), bin(a), hex(result), bin(result)))"
   ]
  },
  {
   "cell_type": "markdown",
   "metadata": {},
   "source": [
    "## Lab2.3\n",
    "a設為0x6b(0b 011<font color='red'>0 1</font>011)，將第n, n+1個bit設為0b11(default n=3)。  \n",
    "=>0x6b(0b 011<font color='red'>0 1</font>011)->0x7b(0b 011<font color='red'>1 1</font>011)"
   ]
  },
  {
   "cell_type": "code",
   "execution_count": 34,
   "metadata": {},
   "outputs": [],
   "source": [
    "v00 = 0x63\n",
    "v01 = 0x6b\n",
    "v10 = 0x73\n",
    "v11 = 0x7b"
   ]
  },
  {
   "cell_type": "code",
   "execution_count": 39,
   "metadata": {},
   "outputs": [
    {
     "name": "stdout",
     "output_type": "stream",
     "text": [
      "=>0x6b(0b1101011)->0x7b(0b1111011)\n",
      "\n"
     ]
    }
   ],
   "source": [
    "a = v01\n",
    "n = 3\n",
    "# 0b 0110 1011\n",
    "# |  0001 1000 <= 0b11 << n\n",
    "# 0b 0111 1011\n",
    "mask = 0x3 << n\n",
    "result = a | mask\n",
    "print(\"=>%s(%s)->%s(%s)\\n\" %(hex(a), bin(a), hex(result), bin(result)))"
   ]
  },
  {
   "cell_type": "markdown",
   "metadata": {},
   "source": [
    "## Lab2.4\n",
    "a設為0x6b(0b 011<font color='red'>0 1</font>011)，將第n, n+1個bit設為0b10(default n=3)。  \n",
    "=>0x6b(0b 011<font color='red'>0 1</font>011)->0x73(0b 011<font color='red'>1 0</font>011)"
   ]
  },
  {
   "cell_type": "code",
   "execution_count": 78,
   "metadata": {},
   "outputs": [
    {
     "name": "stdout",
     "output_type": "stream",
     "text": [
      "=>0x6b(0b1101011)->0x63(0b1100011)\n",
      "\n"
     ]
    }
   ],
   "source": [
    "a = v01\n",
    "value = 0b10\n",
    "n = 3\n",
    "# 0b 0110 1011\n",
    "# &  1110 0111 <= ~ 0001 1000 <= 0b11 << n \n",
    "# 0b 0110 0011\n",
    "# |  0001 0000 <= value=0b11 << n\n",
    "# 0b 0111 0011\n",
    "mask = 0x3\n",
    "result = a & ~(mask<<n) | (value<<n)\n",
    "print(\"=>%s(%s)->%s(%s)\\n\" %(hex(a), bin(a), hex(result), bin(result)))"
   ]
  },
  {
   "cell_type": "markdown",
   "metadata": {},
   "source": [
    "## Lab2.5\n",
    "mode_0=0000  \n",
    "mode_1=0001  \n",
    "mode_2=0010  \n",
    "mode_3=0011  \n",
    "...  \n",
    "mode_f=1111  \n",
    "\n",
    "a設為0xf16b(0b 1111 0001 <font color='red'>0110</font> 1011)，將第n組資料設為mode_a(default n=1)。  \n",
    "=>0xf16b(0b 1111 0001 <font color='red'>0110</font> 1011)->0xf1ab(0b 1111 0001 <font color='red'>1010</font> 1011)"
   ]
  },
  {
   "cell_type": "code",
   "execution_count": 63,
   "metadata": {},
   "outputs": [],
   "source": [
    "mode_0 = 0b0000\n",
    "mode_1 = 0b0001\n",
    "mode_2 = 0b0010\n",
    "mode_3 = 0b0011\n",
    "mode_4 = 0b0100\n",
    "mode_5 = 0b0101\n",
    "mode_6 = 0b0110\n",
    "mode_7 = 0b0111\n",
    "mode_8 = 0b1000\n",
    "mode_9 = 0b1001\n",
    "mode_a = 0b1010\n",
    "mode_b = 0b1011\n",
    "mode_c = 0b1100\n",
    "mode_d = 0b1101\n",
    "mode_e = 0b1110\n",
    "mode_f = 0b1111"
   ]
  },
  {
   "cell_type": "code",
   "execution_count": 74,
   "metadata": {},
   "outputs": [
    {
     "name": "stdout",
     "output_type": "stream",
     "text": [
      "=>0xf16b(0b1111000101101011)->0xf1ab(0b1111000110101011)\n",
      "\n"
     ]
    }
   ],
   "source": [
    "mask = 0xf\n",
    "\n",
    "a = 0xf16b\n",
    "value = mode_a\n",
    "n=1\n",
    "\n",
    "result = a & ~(mask << (n*4)) | (value << (n*4))\n",
    "print(\"=>%s(%s)->%s(%s)\\n\" %(hex(a), bin(a), hex(result), bin(result)))\n"
   ]
  },
  {
   "cell_type": "markdown",
   "metadata": {},
   "source": [
    "##  Lab2.5.5\n",
    "假設已從硬體設備中映射並擷取其中某段長度為16bits的記憶體區段作為a(0xf16b)，  \n",
    "並設有偏移量shift(int.10)，  \n",
    "最後有一<font color='red'>長度未定</font>覆蓋值value(0b11010)。  \n",
    "請實作讓value能改寫偏移shift位置的a內容。\n",
    "\n",
    "ex.   \n",
    "\n",
    "第一組測試資料:\n",
    "a=0xf16b=0b 1<font color='red'>111 00</font>01 0110 1011  \n",
    "shift=10  \n",
    "value=0b 11010  \n",
    "result=0xe96b=0b 1<font color='red'>110 10</font>01 0110 1011  \n",
    "顯示如下:  \n",
    "=>0xf16b(0b1111000101101011)->0xe96b(0b1110100101101011)\n",
    "\n",
    "\n",
    "第二組測試資料:\n",
    "a=0xc07b=0b 1100 0000 01<font color='red'>11 1</font>011    \n",
    "shift=3  \n",
    "value=0b 100  \n",
    "result=0xc063=0b 1100 0000 01<font color='red'>10 0</font>011       \n",
    "顯示如下:  \n",
    "=>0xc07b(0b1100000001111011)->0xc063(0b1100000001100011)"
   ]
  },
  {
   "cell_type": "markdown",
   "metadata": {},
   "source": [
    "## Lab2.6\n",
    "隨機產生A~Z。(p.43+p.69+p.71)"
   ]
  },
  {
   "cell_type": "code",
   "execution_count": 429,
   "metadata": {},
   "outputs": [
    {
     "data": {
      "text/plain": [
       "'U'"
      ]
     },
     "execution_count": 429,
     "metadata": {},
     "output_type": "execute_result"
    }
   ],
   "source": [
    "import random \n",
    "chr(random.randint(65, 90))"
   ]
  },
  {
   "cell_type": "markdown",
   "metadata": {},
   "source": [
    "## Lab2.7\n",
    "a設為0x6b(0b 011<font color='red'>0 1</font>011)，將第n, n+1個bit讀取並存到b(default n=3)。  \n",
    "b=0b01=0x1 (hint. << >>)"
   ]
  },
  {
   "cell_type": "code",
   "execution_count": 48,
   "metadata": {},
   "outputs": [
    {
     "name": "stdout",
     "output_type": "stream",
     "text": [
      "=>0x6b(0b1101011)->0x1(0b1)\n",
      "\n"
     ]
    }
   ],
   "source": [
    "a = v01\n",
    "n = 3\n",
    "# 0b 0110 1011\n",
    "# &  0001 1000 <= 0b11 << n\n",
    "# 0b 0000 1000 >> n\n",
    "#           01  \n",
    "mask = 0x3\n",
    "result = (a & (mask<<n)) >> n\n",
    "print(\"=>%s(%s)->%s(%s)\\n\" %(hex(a), bin(a), hex(result), bin(result)))"
   ]
  }
 ],
 "metadata": {
  "kernelspec": {
   "display_name": "Python 3",
   "language": "python",
   "name": "python3"
  },
  "language_info": {
   "codemirror_mode": {
    "name": "ipython",
    "version": 3
   },
   "file_extension": ".py",
   "mimetype": "text/x-python",
   "name": "python",
   "nbconvert_exporter": "python",
   "pygments_lexer": "ipython3",
   "version": "3.8.8"
  }
 },
 "nbformat": 4,
 "nbformat_minor": 4
}
