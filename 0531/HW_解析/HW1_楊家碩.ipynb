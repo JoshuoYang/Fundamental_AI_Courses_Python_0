{
 "cells": [
  {
   "cell_type": "markdown",
   "id": "e0b128cf",
   "metadata": {},
   "source": [
    "##### Lab2.5.5\n",
    "假設已從硬體設備中映射並擷取其中某段長度為16bits的記憶體區段作為a(0xf16b)，  \n",
    "並設有偏移量shift(int.10)，  \n",
    "最後有一<font color='red'>長度未定</font>覆蓋值value(0b11010)。  \n",
    "請實作讓value能改寫偏移shift位置的a內容。  \n",
    "ex.\n",
    "\n",
    "第一組測試資料: a=0xf16b=0b 1111 0001 0110 1011  \n",
    "shift=10  \n",
    "value=0b 11010  \n",
    "result=0xe96b=0b 1110 1001 0110 1011  \n",
    "顯示如下:  \n",
    "=>0xf16b(0b1<font color='red'>11100</font>0101101011)->0xe96b(0b1<font color='red'>11010</font>0101101011)  \n",
    "\n",
    "第二組測試資料: a=0xc07b=0b 1100 0000 0111 1011  \n",
    "shift=3  \n",
    "value=0b 100  \n",
    "result=0xc063=0b 1100 0000 0110 0011  \n",
    "顯示如下:  \n",
    "=>0xc07b(0b1100000001<font color='red'>111</font>011)->0xc063(0b1100000001<font color='red'>100</font>011)"
   ]
  },
  {
   "cell_type": "code",
   "execution_count": 1,
   "id": "7a0b0dd9",
   "metadata": {},
   "outputs": [
    {
     "data": {
      "text/plain": [
       "61803"
      ]
     },
     "execution_count": 1,
     "metadata": {},
     "output_type": "execute_result"
    }
   ],
   "source": [
    "0xf16b"
   ]
  },
  {
   "cell_type": "code",
   "execution_count": 2,
   "id": "046ea52e",
   "metadata": {},
   "outputs": [
    {
     "name": "stdout",
     "output_type": "stream",
     "text": [
      "plesae input a61803\n",
      "plesae input shift amount10\n",
      "plesae input coverage value26\n",
      "=>0xf16b(0b1111000101101011)->0xe96b(0b1110100101101011)\n",
      "\n"
     ]
    }
   ],
   "source": [
    "a = int(input(\"plesae input a\"))\n",
    "n = int(input(\"plesae input shift amount\"))\n",
    "value = int(input(\"plesae input coverage value\"))\n",
    "# 0b 1111 0001 0110 1011\n",
    "#     110 10wh\n",
    "#     001 01 \n",
    "#     ||& |&\n",
    "# &  1000 0011 1111 1111 => ~(1 1111 << n) => ~(0x1f << n)\n",
    "# |  0110 1000 0000 0000 => 1 1010 => 0x1a << n\n",
    "# 0b 1110 1001 0110 1011\n",
    "i = 1\n",
    "while value > pow(2,i):\n",
    "    i += 1\n",
    "\n",
    "mask1 = ~((pow(2,i)-1) << n)\n",
    "mask2 = value << n\n",
    "result = a & mask1 | mask2\n",
    "print(\"=>%s(%s)->%s(%s)\\n\" %(hex(a), bin(a), hex(result), bin(result)))"
   ]
  },
  {
   "cell_type": "code",
   "execution_count": 4,
   "id": "d67bd18b",
   "metadata": {},
   "outputs": [
    {
     "data": {
      "text/plain": [
       "49275"
      ]
     },
     "execution_count": 4,
     "metadata": {},
     "output_type": "execute_result"
    }
   ],
   "source": [
    "0xc07b"
   ]
  },
  {
   "cell_type": "code",
   "execution_count": 5,
   "id": "023ccc33",
   "metadata": {},
   "outputs": [
    {
     "name": "stdout",
     "output_type": "stream",
     "text": [
      "plesae input a49275\n",
      "plesae input shift amount3\n",
      "plesae input coverage value4\n",
      "=>0xc07b(0b1100000001111011)->0xc063(0b1100000001100011)\n",
      "\n"
     ]
    }
   ],
   "source": [
    "a = int(input(\"plesae input a\"))\n",
    "n = int(input(\"plesae input shift amount\"))\n",
    "value = int(input(\"plesae input coverage value\"))\n",
    "# 0b 1111 0001 0110 1011\n",
    "#     110 10wh\n",
    "#     001 01 \n",
    "#     ||& |&\n",
    "# &  1000 0011 1111 1111 => ~(1 1111 << n) => ~(0x1f << n)\n",
    "# |  0110 1000 0000 0000 => 1 1010 => 0x1a << n\n",
    "# 0b 1110 1001 0110 1011\n",
    "i = 1\n",
    "while value > pow(2,i):\n",
    "    i += 1\n",
    "\n",
    "mask1 = ~((pow(2,i)-1) << n)\n",
    "mask2 = value << n\n",
    "result = a & mask1 | mask2\n",
    "print(\"=>%s(%s)->%s(%s)\\n\" %(hex(a), bin(a), hex(result), bin(result)))"
   ]
  },
  {
   "cell_type": "code",
   "execution_count": 4,
   "id": "93d19aa3",
   "metadata": {},
   "outputs": [
    {
     "data": {
      "text/plain": [
       "21"
      ]
     },
     "execution_count": 4,
     "metadata": {},
     "output_type": "execute_result"
    }
   ],
   "source": [
    "x = 7\n",
    "eval('3*x')"
   ]
  },
  {
   "cell_type": "code",
   "execution_count": null,
   "id": "338ced27",
   "metadata": {},
   "outputs": [],
   "source": []
  }
 ],
 "metadata": {
  "kernelspec": {
   "display_name": "Python 3",
   "language": "python",
   "name": "python3"
  },
  "language_info": {
   "codemirror_mode": {
    "name": "ipython",
    "version": 3
   },
   "file_extension": ".py",
   "mimetype": "text/x-python",
   "name": "python",
   "nbconvert_exporter": "python",
   "pygments_lexer": "ipython3",
   "version": "3.8.8"
  }
 },
 "nbformat": 4,
 "nbformat_minor": 5
}
