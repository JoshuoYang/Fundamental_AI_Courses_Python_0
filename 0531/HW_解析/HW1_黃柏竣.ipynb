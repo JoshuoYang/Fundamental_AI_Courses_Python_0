{
 "cells": [
  {
   "cell_type": "code",
   "execution_count": 6,
   "id": "83535e0b",
   "metadata": {},
   "outputs": [
    {
     "name": "stdout",
     "output_type": "stream",
     "text": [
      "請輸入value:0b11010\n",
      "請輸入偏移量:10\n",
      "初始值:0xf16b(0b1111000101101011)-->更改值0xe96b(0b1110100101101011)\n"
     ]
    }
   ],
   "source": [
    "a = 0xf16b\n",
    "while (1) :\n",
    "# 其實我沒有很確定 eval()的正確用法 經過我測試發現這樣不論輸入16進位、2進位、10進位都能讀 不過還是限定是數字 不考慮隨意輸入造成的錯誤\n",
    "    value = eval(input('請輸入value:'))       \n",
    "    n = value.bit_length()\n",
    "    if n > 16 :\n",
    "        print('value過大!不可超過16its!請重新輸入!')\n",
    "        continue\n",
    "    mask = 2 ** n - 1\n",
    "    \n",
    "    while (1) :\n",
    "        shift = int(input('請輸入偏移量:'))\n",
    "        if (n+shift) > 16 :\n",
    "            print('偏移量過大!請重新輸入:')\n",
    "            continue\n",
    "        else :\n",
    "            break\n",
    "    break\n",
    "temp = a&(~(mask<<shift))\n",
    "result = temp|(value<<shift)\n",
    "\n",
    "print(\"初始值:%s(%s)-->更改值%s(%s)\"%(hex(a),bin(a),hex(result),bin(result)) )\n",
    "\n",
    "#寫到這邊我有些疑問 如果今天想要覆蓋的位元數 超過 value的 msb \n",
    "#例如 value = 0b0011 對於電腦來說他就是 0b11 在這情況想要覆蓋 4 個位元是否有解 ?\n",
    "#這個想法是來自於 Lab 2.5 mode_0 = 0000 是否要事先知道要插入的位元數 才能實作 無法單純從外部輸入判斷 想要覆蓋的位元總數?"
   ]
  }
 ],
 "metadata": {
  "kernelspec": {
   "display_name": "Python 3",
   "language": "python",
   "name": "python3"
  },
  "language_info": {
   "codemirror_mode": {
    "name": "ipython",
    "version": 3
   },
   "file_extension": ".py",
   "mimetype": "text/x-python",
   "name": "python",
   "nbconvert_exporter": "python",
   "pygments_lexer": "ipython3",
   "version": "3.8.8"
  }
 },
 "nbformat": 4,
 "nbformat_minor": 5
}
