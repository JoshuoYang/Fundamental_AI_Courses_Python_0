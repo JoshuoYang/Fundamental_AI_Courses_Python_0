{
 "cells": [
  {
   "cell_type": "markdown",
   "id": "87bcbf09",
   "metadata": {},
   "source": [
    "##  Lab2.5.5\n",
    "假設已從硬體設備中映射並擷取其中某段長度為16bits的記憶體區段作為a(0xf16b)，  \n",
    "並設有偏移量shift(int.10)，  \n",
    "最後有一<font color='red'>長度未定</font>覆蓋值value(0b11010)。  \n",
    "請實作讓value能改寫偏移shift位置的a內容。\n",
    "\n",
    "ex.   \n",
    "\n",
    "第一組測試資料:\n",
    "a=0xf16b=0b 1<font color='red'>111 00</font>01 0110 1011  \n",
    "shift=10  \n",
    "value=0b 11010  \n",
    "result=0xe96b=0b 1<font color='red'>110 10</font>01 0110 1011  \n",
    "顯示如下:  \n",
    "=>0xf16b(0b1111000101101011)->0xe96b(0b1110100101101011)\n",
    "\n",
    "\n",
    "第二組測試資料:\n",
    "a=0xc07b=0b 1100 0000 01<font color='red'>11 1</font>011    \n",
    "shift=3  \n",
    "value=0b 100  \n",
    "result=0xc063=0b 1100 0000 01<font color='red'>10 0</font>011       \n",
    "顯示如下:  \n",
    "=>0xc07b(0b1100000001111011)->0xc063(0b1100000001100011)"
   ]
  },
  {
   "cell_type": "code",
   "execution_count": 114,
   "id": "3122cf40",
   "metadata": {},
   "outputs": [
    {
     "name": "stdout",
     "output_type": "stream",
     "text": [
      "=>0xf16b(0b1111000101101011)->0xe96b(0b1110100101101011)\n"
     ]
    }
   ],
   "source": [
    "#第一組測試資料\n",
    "a = 0xf16b\n",
    "shift = 10\n",
    "value = 0b11010\n",
    "\n",
    "#Program----------\n",
    "length = len(bin(value)) - 2\n",
    "mask = (2 ** length - 1)\n",
    "\n",
    "if length <=16:\n",
    "    result = (a & ~(mask << shift)) | (value << shift)\n",
    "    print(\"=>%s(%s)->%s(%s)\" %(hex(a), bin(a), hex(result), bin(result)))\n",
    "else:\n",
    "    print(\"Error\")\n",
    "\n"
   ]
  },
  {
   "cell_type": "code",
   "execution_count": 115,
   "id": "d8aff3fd",
   "metadata": {},
   "outputs": [
    {
     "name": "stdout",
     "output_type": "stream",
     "text": [
      "=>0xc07b(0b1100000001111011)->0xc063(0b1100000001100011)\n"
     ]
    }
   ],
   "source": [
    "#第二組測試資料\n",
    "a = 0xc07b\n",
    "shift = 3\n",
    "value = 0b100\n",
    "\n",
    "#Program----------\n",
    "length = len(bin(value)) - 2\n",
    "mask = (2 ** length - 1)\n",
    "\n",
    "if length <=16:\n",
    "    result = (a & ~(mask << shift)) | (value << shift)\n",
    "    print(\"=>%s(%s)->%s(%s)\" %(hex(a), bin(a), hex(result), bin(result)))\n",
    "else:\n",
    "    print(\"Error\")\n",
    "    "
   ]
  }
 ],
 "metadata": {
  "kernelspec": {
   "display_name": "Python 3",
   "language": "python",
   "name": "python3"
  },
  "language_info": {
   "codemirror_mode": {
    "name": "ipython",
    "version": 3
   },
   "file_extension": ".py",
   "mimetype": "text/x-python",
   "name": "python",
   "nbconvert_exporter": "python",
   "pygments_lexer": "ipython3",
   "version": "3.8.8"
  }
 },
 "nbformat": 4,
 "nbformat_minor": 5
}
