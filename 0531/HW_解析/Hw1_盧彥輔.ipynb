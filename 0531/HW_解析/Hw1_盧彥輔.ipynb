{
 "cells": [
  {
   "cell_type": "code",
   "execution_count": 7,
   "id": "a3ab27bc",
   "metadata": {},
   "outputs": [
    {
     "name": "stdout",
     "output_type": "stream",
     "text": [
      "請輸入a(2進制)：0b1110100101101011\n",
      "請輸入value(2進制)：0b11010\n",
      "請輸入shift：10\n",
      "0xe96b 0b1110100101101011 -> 0xe96b 0b1110100101101011\n"
     ]
    }
   ],
   "source": [
    "a = eval(input('請輸入a(2進制)：'))\n",
    "value = eval(input('請輸入value(2進制)：'))\n",
    "shift = eval(input('請輸入shift：'))\n",
    "\n",
    "a_list = list(bin(a))\n",
    "value_list = (bin(value))\n",
    "value_list_len = len(value_list[2:]) \n",
    "a_list[18-value_list_len-shift:18-shift] = value_list[2:]\n",
    "a1 = ''.join(a_list)\n",
    "a2 = int(a1, 2)\n",
    "\n",
    "print(hex(a), bin(a), '->', hex(a2), bin(a2))"
   ]
  },
  {
   "cell_type": "code",
   "execution_count": 8,
   "id": "c9271675",
   "metadata": {},
   "outputs": [
    {
     "name": "stdout",
     "output_type": "stream",
     "text": [
      "請輸入a(2進制)：0b1100000001111011\n",
      "請輸入value(2進制)：0b100\n",
      "請輸入shift：3\n",
      "0xc07b 0b1100000001111011 -> 0xc063 0b1100000001100011\n"
     ]
    }
   ],
   "source": [
    "a = eval(input('請輸入a(2進制)：'))\n",
    "value = eval(input('請輸入value(2進制)：'))\n",
    "shift = eval(input('請輸入shift：'))\n",
    "\n",
    "a_list = list(bin(a))\n",
    "value_list = (bin(value))\n",
    "value_list_len = len(value_list[2:])\n",
    "a_list[18-value_list_len-shift:18-shift] = value_list[2:]\n",
    "a1 = ''.join(a_list)\n",
    "a2 = int(a1, 2)\n",
    "\n",
    "print(hex(a), bin(a), '->', hex(a2), bin(a2))"
   ]
  }
 ],
 "metadata": {
  "kernelspec": {
   "display_name": "Python 3",
   "language": "python",
   "name": "python3"
  },
  "language_info": {
   "codemirror_mode": {
    "name": "ipython",
    "version": 3
   },
   "file_extension": ".py",
   "mimetype": "text/x-python",
   "name": "python",
   "nbconvert_exporter": "python",
   "pygments_lexer": "ipython3",
   "version": "3.8.8"
  }
 },
 "nbformat": 4,
 "nbformat_minor": 5
}
