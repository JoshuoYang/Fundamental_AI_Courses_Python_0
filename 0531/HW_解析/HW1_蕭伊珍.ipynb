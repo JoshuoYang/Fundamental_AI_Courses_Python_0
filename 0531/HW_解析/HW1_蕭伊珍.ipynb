{
 "cells": [
  {
   "cell_type": "code",
   "execution_count": 1,
   "id": "3ce5755d",
   "metadata": {},
   "outputs": [
    {
     "name": "stdout",
     "output_type": "stream",
     "text": [
      "=>0xf16b(0b1111000101101011)->0xe96b(0b1110100101101011)\n"
     ]
    }
   ],
   "source": [
    "import math\n",
    "a=0xf16b\n",
    "shift=10\n",
    "value=0b11010\n",
    "valuein=2**(int(math.log(value,2))+1)-1\n",
    "mask=~(valuein<<shift)\n",
    "reslut=a&mask|(value<<shift)\n",
    "print(\"=>%s(%s)->%s(%s)\"%(hex(a),bin(a),hex(reslut),bin(reslut)))"
   ]
  },
  {
   "cell_type": "code",
   "execution_count": null,
   "id": "85d427cd",
   "metadata": {},
   "outputs": [],
   "source": [
    "import math\n",
    "a=0xc07b\n",
    "shift=3\n",
    "value=0b100\n",
    "valuein=2**(int(math.log(value,2))+1)-1\n",
    "mask=~(valuein<<shift)\n",
    "reslut=a&mask|(value<<shift)\n",
    "print(\"=>%s(%s)->%s(%s)\"%(hex(a),bin(a),hex(reslut),bin(reslut)))"
   ]
  }
 ],
 "metadata": {
  "kernelspec": {
   "display_name": "Python 3",
   "language": "python",
   "name": "python3"
  },
  "language_info": {
   "codemirror_mode": {
    "name": "ipython",
    "version": 3
   },
   "file_extension": ".py",
   "mimetype": "text/x-python",
   "name": "python",
   "nbconvert_exporter": "python",
   "pygments_lexer": "ipython3",
   "version": "3.8.8"
  }
 },
 "nbformat": 4,
 "nbformat_minor": 5
}
