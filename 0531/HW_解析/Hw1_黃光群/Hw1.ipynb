{
 "cells": [
  {
   "cell_type": "code",
   "execution_count": 2,
   "id": "cf513883",
   "metadata": {},
   "outputs": [
    {
     "name": "stdout",
     "output_type": "stream",
     "text": [
      "請輸入a值23\n",
      "請輸入shift長 : 2\n",
      "請輸入value(0b...) : 0b1110011\n",
      "=>0x23(0b100011)->0x1cf(0b111001111)\n"
     ]
    }
   ],
   "source": [
    "a = int(input(\"請輸入a值\"), 16)\n",
    "shift = int(input(\"請輸入shift長 : \"))\n",
    "value = input(\"請輸入value(0b...) : \")\n",
    "intvalue = int(value, 2)   #將輸入的二進位字串，轉成int值\n",
    "\n",
    "#要設想如何輸入value 0b11010, 變成0b11111\n",
    "count = intvalue.bit_length()  #記錄這個數值最少需要幾個bit\n",
    "mask = 2 ** (count) - 1\n",
    "result = a & ~(mask << shift) | (intvalue << shift)\n",
    "print(\"=>%s(%s)->%s(%s)\" %(hex(a), bin(a), hex(result), bin(result)))"
   ]
  },
  {
   "cell_type": "code",
   "execution_count": null,
   "id": "49cd8aa7",
   "metadata": {},
   "outputs": [],
   "source": []
  }
 ],
 "metadata": {
  "kernelspec": {
   "display_name": "Python 3",
   "language": "python",
   "name": "python3"
  },
  "language_info": {
   "codemirror_mode": {
    "name": "ipython",
    "version": 3
   },
   "file_extension": ".py",
   "mimetype": "text/x-python",
   "name": "python",
   "nbconvert_exporter": "python",
   "pygments_lexer": "ipython3",
   "version": "3.8.8"
  }
 },
 "nbformat": 4,
 "nbformat_minor": 5
}
