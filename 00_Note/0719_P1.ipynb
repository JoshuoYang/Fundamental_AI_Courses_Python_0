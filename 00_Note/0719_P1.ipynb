{
 "cells": [
  {
   "cell_type": "code",
   "execution_count": 7,
   "id": "cc103163",
   "metadata": {},
   "outputs": [
    {
     "name": "stdout",
     "output_type": "stream",
     "text": [
      "[1, 2, 3, 4, 5]\n"
     ]
    }
   ],
   "source": [
    "class Node:\n",
    "    def __init__(self, data):\n",
    "        self.left = None\n",
    "        self.right = None\n",
    "        self.data = data\n",
    "\n",
    "a = [3, 5, 4, 1, 2]\n",
    "\n",
    "root = None #3\n",
    "for i in a:\n",
    "    if root == None:\n",
    "        # add root\n",
    "        node = Node(i) #3\n",
    "        root = node #3\n",
    "    else:\n",
    "        point = root #3\n",
    "        while True:\n",
    "            if point.data <= i:\n",
    "                if point.right is not None:\n",
    "                    point = point.right\n",
    "                else: # point.right is None, right position\n",
    "                    node = Node(i)\n",
    "                    point.right = node #5\n",
    "                    break\n",
    "            else:\n",
    "                if point.left is not None:\n",
    "                    point = point.left\n",
    "                else:\n",
    "                    node = Node(i)\n",
    "                    point.left = node\n",
    "                    break\n",
    "            \n",
    "                        \n",
    "# recursive function\n",
    "def put(root, b):\n",
    "    # 1 step\n",
    "    if root.left:\n",
    "        put(root.left, b)\n",
    "    \n",
    "    # 2 step\n",
    "    b.append(root.data)\n",
    "    \n",
    "    # 3 step\n",
    "    if root.right:\n",
    "        put(root.right, b)\n",
    "    \n",
    "\n",
    "b = []\n",
    "put(root, b)\n",
    "print(b)"
   ]
  },
  {
   "cell_type": "code",
   "execution_count": 8,
   "id": "5d176f3e",
   "metadata": {},
   "outputs": [
    {
     "data": {
      "text/plain": [
       "True"
      ]
     },
     "execution_count": 8,
     "metadata": {},
     "output_type": "execute_result"
    }
   ],
   "source": [
    "type(point) is Node"
   ]
  },
  {
   "cell_type": "code",
   "execution_count": null,
   "id": "081062fc",
   "metadata": {},
   "outputs": [],
   "source": []
  }
 ],
 "metadata": {
  "kernelspec": {
   "display_name": "Python 3",
   "language": "python",
   "name": "python3"
  },
  "language_info": {
   "codemirror_mode": {
    "name": "ipython",
    "version": 3
   },
   "file_extension": ".py",
   "mimetype": "text/x-python",
   "name": "python",
   "nbconvert_exporter": "python",
   "pygments_lexer": "ipython3",
   "version": "3.8.8"
  }
 },
 "nbformat": 4,
 "nbformat_minor": 5
}
